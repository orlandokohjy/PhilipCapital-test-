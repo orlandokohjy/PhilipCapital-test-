{
  "nbformat": 4,
  "nbformat_minor": 0,
  "metadata": {
    "colab": {
      "name": "PhilipCapital (test)",
      "provenance": [],
      "mount_file_id": "1VwGoZFBX_z4-OyPTLXTsxzS4QFvscPsm",
      "authorship_tag": "ABX9TyNY4u8bpoMWFsVlJO4+dBWd",
      "include_colab_link": true
    },
    "kernelspec": {
      "name": "python3",
      "display_name": "Python 3"
    },
    "language_info": {
      "name": "python"
    }
  },
  "cells": [
    {
      "cell_type": "markdown",
      "metadata": {
        "id": "view-in-github",
        "colab_type": "text"
      },
      "source": [
        "<a href=\"https://colab.research.google.com/github/orlandokohjy/PhilipCapital-test-/blob/main/PhilipCapital_(test).ipynb\" target=\"_parent\"><img src=\"https://colab.research.google.com/assets/colab-badge.svg\" alt=\"Open In Colab\"/></a>"
      ]
    },
    {
      "cell_type": "code",
      "execution_count": 3,
      "metadata": {
        "colab": {
          "base_uri": "https://localhost:8080/"
        },
        "id": "XgW6j1HWNprn",
        "outputId": "adffad64-7e9b-445b-f9a6-b3d4dce897b4"
      },
      "outputs": [
        {
          "output_type": "stream",
          "name": "stdout",
          "text": [
            "sample_data\n"
          ]
        }
      ],
      "source": [
        "!ls"
      ]
    },
    {
      "cell_type": "code",
      "source": [
        "from google.colab import drive\n",
        "drive.mount('/gdrive')"
      ],
      "metadata": {
        "id": "Qkl6keSfOkmz",
        "colab": {
          "base_uri": "https://localhost:8080/"
        },
        "outputId": "ab7d7cfe-5972-4d61-c69a-ecff05488c90"
      },
      "execution_count": 4,
      "outputs": [
        {
          "output_type": "stream",
          "name": "stdout",
          "text": [
            "Mounted at /gdrive\n"
          ]
        }
      ]
    },
    {
      "cell_type": "code",
      "source": [
        "%cd /gdrive"
      ],
      "metadata": {
        "id": "t6V-R6GlOqE5",
        "colab": {
          "base_uri": "https://localhost:8080/"
        },
        "outputId": "5953c250-9c7b-4b80-9dee-3867ddd3ccb9"
      },
      "execution_count": 7,
      "outputs": [
        {
          "output_type": "stream",
          "name": "stdout",
          "text": [
            "/gdrive\n"
          ]
        }
      ]
    },
    {
      "cell_type": "code",
      "source": [
        "# Standard import\n",
        "import os as os\n",
        "import pandas as pd\n",
        "import numpy as np\n",
        "\n",
        "df_people = pd.read_excel('/content/drive/Othercomputers/My MacBook Pro/KJY/Interview Test/PhilipCapital/Excel and VBA Test.xlsx', sheet_name = 'People', usecols=\"B:E\")\n",
        "df_income = pd.read_excel('/content/drive/Othercomputers/My MacBook Pro/KJY/Interview Test/PhilipCapital/Excel and VBA Test.xlsx', sheet_name = 'Median Income')"
      ],
      "metadata": {
        "id": "OxRnKHiNPDop"
      },
      "execution_count": 33,
      "outputs": []
    },
    {
      "cell_type": "code",
      "source": [
        "df_people.head()"
      ],
      "metadata": {
        "colab": {
          "base_uri": "https://localhost:8080/",
          "height": 206
        },
        "id": "6RbnVP_oPvPi",
        "outputId": "0a98714a-6e5a-4ddf-cc53-fb8524a97dab"
      },
      "execution_count": 34,
      "outputs": [
        {
          "output_type": "execute_result",
          "data": {
            "text/html": [
              "<div>\n",
              "<style scoped>\n",
              "    .dataframe tbody tr th:only-of-type {\n",
              "        vertical-align: middle;\n",
              "    }\n",
              "\n",
              "    .dataframe tbody tr th {\n",
              "        vertical-align: top;\n",
              "    }\n",
              "\n",
              "    .dataframe thead th {\n",
              "        text-align: right;\n",
              "    }\n",
              "</style>\n",
              "<table border=\"1\" class=\"dataframe\">\n",
              "  <thead>\n",
              "    <tr style=\"text-align: right;\">\n",
              "      <th></th>\n",
              "      <th>Name</th>\n",
              "      <th>Age</th>\n",
              "      <th>Occupation</th>\n",
              "      <th>Yearly Income</th>\n",
              "    </tr>\n",
              "  </thead>\n",
              "  <tbody>\n",
              "    <tr>\n",
              "      <th>0</th>\n",
              "      <td>Keegan Russell</td>\n",
              "      <td>40</td>\n",
              "      <td>Cashier</td>\n",
              "      <td>15000</td>\n",
              "    </tr>\n",
              "    <tr>\n",
              "      <th>1</th>\n",
              "      <td>Samantha Valentine</td>\n",
              "      <td>50</td>\n",
              "      <td>Desktop publisher</td>\n",
              "      <td>102000</td>\n",
              "    </tr>\n",
              "    <tr>\n",
              "      <th>2</th>\n",
              "      <td>Moses Nielsen</td>\n",
              "      <td>75</td>\n",
              "      <td>Interpreter &amp; Translator</td>\n",
              "      <td>95000</td>\n",
              "    </tr>\n",
              "    <tr>\n",
              "      <th>3</th>\n",
              "      <td>Savanna Walter</td>\n",
              "      <td>19</td>\n",
              "      <td>Dancer</td>\n",
              "      <td>61000</td>\n",
              "    </tr>\n",
              "    <tr>\n",
              "      <th>4</th>\n",
              "      <td>Heidi Holder</td>\n",
              "      <td>23</td>\n",
              "      <td>Radiologic Technologist</td>\n",
              "      <td>129000</td>\n",
              "    </tr>\n",
              "  </tbody>\n",
              "</table>\n",
              "</div>"
            ],
            "text/plain": [
              "                 Name  Age                Occupation  Yearly Income\n",
              "0      Keegan Russell   40                   Cashier          15000\n",
              "1  Samantha Valentine   50         Desktop publisher         102000\n",
              "2       Moses Nielsen   75  Interpreter & Translator          95000\n",
              "3      Savanna Walter   19                    Dancer          61000\n",
              "4        Heidi Holder   23   Radiologic Technologist         129000"
            ]
          },
          "metadata": {},
          "execution_count": 34
        }
      ]
    },
    {
      "cell_type": "code",
      "source": [
        "df_people.shape"
      ],
      "metadata": {
        "colab": {
          "base_uri": "https://localhost:8080/"
        },
        "id": "QlCl2iAoSG_Y",
        "outputId": "4d625103-74e9-409c-83f8-e5dc279e7118"
      },
      "execution_count": 35,
      "outputs": [
        {
          "output_type": "execute_result",
          "data": {
            "text/plain": [
              "(1000, 4)"
            ]
          },
          "metadata": {},
          "execution_count": 35
        }
      ]
    },
    {
      "cell_type": "code",
      "source": [
        "df_income.head()"
      ],
      "metadata": {
        "colab": {
          "base_uri": "https://localhost:8080/",
          "height": 206
        },
        "id": "TWMyQF8MQmVc",
        "outputId": "cadf4adc-c521-403a-aab5-5bf349a11d68"
      },
      "execution_count": 36,
      "outputs": [
        {
          "output_type": "execute_result",
          "data": {
            "text/html": [
              "<div>\n",
              "<style scoped>\n",
              "    .dataframe tbody tr th:only-of-type {\n",
              "        vertical-align: middle;\n",
              "    }\n",
              "\n",
              "    .dataframe tbody tr th {\n",
              "        vertical-align: top;\n",
              "    }\n",
              "\n",
              "    .dataframe thead th {\n",
              "        text-align: right;\n",
              "    }\n",
              "</style>\n",
              "<table border=\"1\" class=\"dataframe\">\n",
              "  <thead>\n",
              "    <tr style=\"text-align: right;\">\n",
              "      <th></th>\n",
              "      <th>Occupation</th>\n",
              "      <th>Median Income</th>\n",
              "    </tr>\n",
              "  </thead>\n",
              "  <tbody>\n",
              "    <tr>\n",
              "      <th>0</th>\n",
              "      <td>Accountant</td>\n",
              "      <td>14000</td>\n",
              "    </tr>\n",
              "    <tr>\n",
              "      <th>1</th>\n",
              "      <td>Actor</td>\n",
              "      <td>15000</td>\n",
              "    </tr>\n",
              "    <tr>\n",
              "      <th>2</th>\n",
              "      <td>Actuary</td>\n",
              "      <td>60000</td>\n",
              "    </tr>\n",
              "    <tr>\n",
              "      <th>3</th>\n",
              "      <td>Anthropologist</td>\n",
              "      <td>145000</td>\n",
              "    </tr>\n",
              "    <tr>\n",
              "      <th>4</th>\n",
              "      <td>Architect</td>\n",
              "      <td>143000</td>\n",
              "    </tr>\n",
              "  </tbody>\n",
              "</table>\n",
              "</div>"
            ],
            "text/plain": [
              "       Occupation  Median Income\n",
              "0      Accountant          14000\n",
              "1           Actor          15000\n",
              "2         Actuary          60000\n",
              "3  Anthropologist         145000\n",
              "4       Architect         143000"
            ]
          },
          "metadata": {},
          "execution_count": 36
        }
      ]
    },
    {
      "cell_type": "code",
      "source": [
        "# Task 1: remove duplicated row in dataframe \"People\"\n",
        "df_people_new = df_people.drop_duplicates()"
      ],
      "metadata": {
        "id": "dgdDVrs3Qn7H"
      },
      "execution_count": 37,
      "outputs": []
    },
    {
      "cell_type": "code",
      "source": [
        "df_people_new.shape"
      ],
      "metadata": {
        "colab": {
          "base_uri": "https://localhost:8080/"
        },
        "id": "4Na8Ff1cRIdY",
        "outputId": "7fd76690-2d60-40a7-f84c-d5bbb2b4b826"
      },
      "execution_count": 38,
      "outputs": [
        {
          "output_type": "execute_result",
          "data": {
            "text/plain": [
              "(992, 4)"
            ]
          },
          "metadata": {},
          "execution_count": 38
        }
      ]
    },
    {
      "cell_type": "code",
      "source": [
        "# Task 2: return a df of a list of \"Dancer\" aged < 50 and have a yearly income > median income for \"Dancers\"\n",
        "merge_df = df_people_new.merge(df_income, how='left', on='Occupation')\n"
      ],
      "metadata": {
        "id": "HJLE86hxRADK"
      },
      "execution_count": 44,
      "outputs": []
    },
    {
      "cell_type": "code",
      "source": [
        "desired_df = merge_df[(merge_df['Occupation'] == 'Dancer') & (merge_df['Yearly Income'] > merge_df['Median Income'])]"
      ],
      "metadata": {
        "id": "MlNI8LqhT1Ej"
      },
      "execution_count": 42,
      "outputs": []
    },
    {
      "cell_type": "code",
      "source": [
        "desired_df"
      ],
      "metadata": {
        "colab": {
          "base_uri": "https://localhost:8080/",
          "height": 143
        },
        "id": "EL8K2_esT2PT",
        "outputId": "dc3ea971-dc06-4057-d535-5b927cbf538d"
      },
      "execution_count": 43,
      "outputs": [
        {
          "output_type": "execute_result",
          "data": {
            "text/html": [
              "<div>\n",
              "<style scoped>\n",
              "    .dataframe tbody tr th:only-of-type {\n",
              "        vertical-align: middle;\n",
              "    }\n",
              "\n",
              "    .dataframe tbody tr th {\n",
              "        vertical-align: top;\n",
              "    }\n",
              "\n",
              "    .dataframe thead th {\n",
              "        text-align: right;\n",
              "    }\n",
              "</style>\n",
              "<table border=\"1\" class=\"dataframe\">\n",
              "  <thead>\n",
              "    <tr style=\"text-align: right;\">\n",
              "      <th></th>\n",
              "      <th>Name</th>\n",
              "      <th>Age</th>\n",
              "      <th>Occupation</th>\n",
              "      <th>Yearly Income</th>\n",
              "      <th>Median Income</th>\n",
              "    </tr>\n",
              "  </thead>\n",
              "  <tbody>\n",
              "    <tr>\n",
              "      <th>581</th>\n",
              "      <td>Kaylin Carey</td>\n",
              "      <td>29</td>\n",
              "      <td>Dancer</td>\n",
              "      <td>149000</td>\n",
              "      <td>122000</td>\n",
              "    </tr>\n",
              "    <tr>\n",
              "      <th>631</th>\n",
              "      <td>Jorge Robbins</td>\n",
              "      <td>68</td>\n",
              "      <td>Dancer</td>\n",
              "      <td>129000</td>\n",
              "      <td>122000</td>\n",
              "    </tr>\n",
              "    <tr>\n",
              "      <th>765</th>\n",
              "      <td>Damion Ball</td>\n",
              "      <td>43</td>\n",
              "      <td>Dancer</td>\n",
              "      <td>123000</td>\n",
              "      <td>122000</td>\n",
              "    </tr>\n",
              "  </tbody>\n",
              "</table>\n",
              "</div>"
            ],
            "text/plain": [
              "              Name  Age Occupation  Yearly Income  Median Income\n",
              "581   Kaylin Carey   29     Dancer         149000         122000\n",
              "631  Jorge Robbins   68     Dancer         129000         122000\n",
              "765    Damion Ball   43     Dancer         123000         122000"
            ]
          },
          "metadata": {},
          "execution_count": 43
        }
      ]
    },
    {
      "cell_type": "code",
      "source": [
        ""
      ],
      "metadata": {
        "id": "ahVgkQEfUdRU"
      },
      "execution_count": null,
      "outputs": []
    }
  ]
}